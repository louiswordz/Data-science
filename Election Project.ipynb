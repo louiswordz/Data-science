{
 "cells": [
  {
   "cell_type": "markdown",
   "id": "149db756",
   "metadata": {},
   "source": [
    "# Election Project\n",
    "\n",
    "## Details:\n",
    "* state. State in which poll was taken. 'U.S' is for national polls.\n",
    "* startdate. Poll's start date.\n",
    "* enddate. Poll's end date.\n",
    "* pollster. Pollster conducting the poll.\n",
    "* grade. Grade assigned by fivethirtyeight to pollster.\n",
    "* samplesize. Sample size.\n",
    "* population. Type of population being polled.\n",
    "* rawpoll_clinton. Percentage for Hillary Clinton.\n",
    "* rawpoll_trump. Percentage for Donald Trump\n",
    "* rawpoll_johnson. Percentage for Gary Johnson\n",
    "* rawpoll_mcmullin. Percentage for Evan McMullin.\n",
    "* adjpoll_clinton. Fivethirtyeight adjusted percentage for Hillary Clinton.\n",
    "* ajdpoll_trump. Fivethirtyeight adjusted percentage for Donald Trump\n",
    "* adjpoll_johnson. Fivethirtyeight adjusted percentage for Gary Johnson\n",
    "* adjpoll_mcmullin. Fivethirtyeight adjusted percentage for Evan McMullin."
   ]
  },
  {
   "cell_type": "code",
   "execution_count": 5,
   "id": "f121d7b0",
   "metadata": {},
   "outputs": [],
   "source": [
    "#importing the necessary libraries for reading data\n",
    "import pandas as pd\n",
    "from pandas import Series, DataFrame\n",
    "import numpy as np\n",
    "\n",
    "# Libraries for viisualisation\n",
    "import matplotlib.pyplot as plt\n",
    "import seaborn as sns\n",
    "sns.set_style(\"whitegrid\")\n",
    "\n",
    "#Library for reading contents from the web\n",
    "import requests\n",
    "\n",
    "from io import StringIO\n",
    "\n",
    "import warnings\n",
    "warnings.filterwarnings(\"ignore\")"
   ]
  },
  {
   "cell_type": "code",
   "execution_count": 6,
   "id": "a95908d9",
   "metadata": {},
   "outputs": [],
   "source": [
    "# Uploading the data from the web\n",
    "url = 'https://query.data.world/s/ywuan4fuhdl2yomxnshh3ttxkclfgq?dws=00000'\n",
    "\n",
    "source = requests.get(url).text\n",
    "\n",
    "poll_data = StringIO(source)"
   ]
  },
  {
   "cell_type": "code",
   "execution_count": 7,
   "id": "c65e3526",
   "metadata": {},
   "outputs": [
    {
     "data": {
      "text/html": [
       "<div>\n",
       "<style scoped>\n",
       "    .dataframe tbody tr th:only-of-type {\n",
       "        vertical-align: middle;\n",
       "    }\n",
       "\n",
       "    .dataframe tbody tr th {\n",
       "        vertical-align: top;\n",
       "    }\n",
       "\n",
       "    .dataframe thead th {\n",
       "        text-align: right;\n",
       "    }\n",
       "</style>\n",
       "<table border=\"1\" class=\"dataframe\">\n",
       "  <thead>\n",
       "    <tr style=\"text-align: right;\">\n",
       "      <th></th>\n",
       "      <th>cycle</th>\n",
       "      <th>branch</th>\n",
       "      <th>type</th>\n",
       "      <th>matchup</th>\n",
       "      <th>forecastdate</th>\n",
       "      <th>state</th>\n",
       "      <th>startdate</th>\n",
       "      <th>enddate</th>\n",
       "      <th>pollster</th>\n",
       "      <th>grade</th>\n",
       "      <th>...</th>\n",
       "      <th>adjpoll_clinton</th>\n",
       "      <th>adjpoll_trump</th>\n",
       "      <th>adjpoll_johnson</th>\n",
       "      <th>adjpoll_mcmullin</th>\n",
       "      <th>multiversions</th>\n",
       "      <th>url</th>\n",
       "      <th>poll_id</th>\n",
       "      <th>question_id</th>\n",
       "      <th>createddate</th>\n",
       "      <th>timestamp</th>\n",
       "    </tr>\n",
       "  </thead>\n",
       "  <tbody>\n",
       "    <tr>\n",
       "      <th>0</th>\n",
       "      <td>2016</td>\n",
       "      <td>President</td>\n",
       "      <td>polls-plus</td>\n",
       "      <td>Clinton vs. Trump vs. Johnson</td>\n",
       "      <td>11/8/16</td>\n",
       "      <td>U.S.</td>\n",
       "      <td>11/3/2016</td>\n",
       "      <td>11/6/2016</td>\n",
       "      <td>ABC News/Washington Post</td>\n",
       "      <td>A+</td>\n",
       "      <td>...</td>\n",
       "      <td>45.20163</td>\n",
       "      <td>41.72430</td>\n",
       "      <td>4.626221</td>\n",
       "      <td>NaN</td>\n",
       "      <td>NaN</td>\n",
       "      <td>https://www.washingtonpost.com/news/the-fix/wp...</td>\n",
       "      <td>48630</td>\n",
       "      <td>76192</td>\n",
       "      <td>11/7/16</td>\n",
       "      <td>09:35:33  8 Nov 2016</td>\n",
       "    </tr>\n",
       "    <tr>\n",
       "      <th>1</th>\n",
       "      <td>2016</td>\n",
       "      <td>President</td>\n",
       "      <td>polls-plus</td>\n",
       "      <td>Clinton vs. Trump vs. Johnson</td>\n",
       "      <td>11/8/16</td>\n",
       "      <td>U.S.</td>\n",
       "      <td>11/1/2016</td>\n",
       "      <td>11/7/2016</td>\n",
       "      <td>Google Consumer Surveys</td>\n",
       "      <td>B</td>\n",
       "      <td>...</td>\n",
       "      <td>43.34557</td>\n",
       "      <td>41.21439</td>\n",
       "      <td>5.175792</td>\n",
       "      <td>NaN</td>\n",
       "      <td>NaN</td>\n",
       "      <td>https://datastudio.google.com/u/0/#/org//repor...</td>\n",
       "      <td>48847</td>\n",
       "      <td>76443</td>\n",
       "      <td>11/7/16</td>\n",
       "      <td>09:35:33  8 Nov 2016</td>\n",
       "    </tr>\n",
       "    <tr>\n",
       "      <th>2</th>\n",
       "      <td>2016</td>\n",
       "      <td>President</td>\n",
       "      <td>polls-plus</td>\n",
       "      <td>Clinton vs. Trump vs. Johnson</td>\n",
       "      <td>11/8/16</td>\n",
       "      <td>U.S.</td>\n",
       "      <td>11/2/2016</td>\n",
       "      <td>11/6/2016</td>\n",
       "      <td>Ipsos</td>\n",
       "      <td>A-</td>\n",
       "      <td>...</td>\n",
       "      <td>42.02638</td>\n",
       "      <td>38.81620</td>\n",
       "      <td>6.844734</td>\n",
       "      <td>NaN</td>\n",
       "      <td>NaN</td>\n",
       "      <td>http://projects.fivethirtyeight.com/polls/2016...</td>\n",
       "      <td>48922</td>\n",
       "      <td>76636</td>\n",
       "      <td>11/8/16</td>\n",
       "      <td>09:35:33  8 Nov 2016</td>\n",
       "    </tr>\n",
       "    <tr>\n",
       "      <th>3</th>\n",
       "      <td>2016</td>\n",
       "      <td>President</td>\n",
       "      <td>polls-plus</td>\n",
       "      <td>Clinton vs. Trump vs. Johnson</td>\n",
       "      <td>11/8/16</td>\n",
       "      <td>U.S.</td>\n",
       "      <td>11/4/2016</td>\n",
       "      <td>11/7/2016</td>\n",
       "      <td>YouGov</td>\n",
       "      <td>B</td>\n",
       "      <td>...</td>\n",
       "      <td>45.65676</td>\n",
       "      <td>40.92004</td>\n",
       "      <td>6.069454</td>\n",
       "      <td>NaN</td>\n",
       "      <td>NaN</td>\n",
       "      <td>https://d25d2506sfb94s.cloudfront.net/cumulus_...</td>\n",
       "      <td>48687</td>\n",
       "      <td>76262</td>\n",
       "      <td>11/7/16</td>\n",
       "      <td>09:35:33  8 Nov 2016</td>\n",
       "    </tr>\n",
       "    <tr>\n",
       "      <th>4</th>\n",
       "      <td>2016</td>\n",
       "      <td>President</td>\n",
       "      <td>polls-plus</td>\n",
       "      <td>Clinton vs. Trump vs. Johnson</td>\n",
       "      <td>11/8/16</td>\n",
       "      <td>U.S.</td>\n",
       "      <td>11/3/2016</td>\n",
       "      <td>11/6/2016</td>\n",
       "      <td>Gravis Marketing</td>\n",
       "      <td>B-</td>\n",
       "      <td>...</td>\n",
       "      <td>46.84089</td>\n",
       "      <td>42.33184</td>\n",
       "      <td>3.726098</td>\n",
       "      <td>NaN</td>\n",
       "      <td>NaN</td>\n",
       "      <td>http://www.gravispolls.com/2016/11/final-natio...</td>\n",
       "      <td>48848</td>\n",
       "      <td>76444</td>\n",
       "      <td>11/7/16</td>\n",
       "      <td>09:35:33  8 Nov 2016</td>\n",
       "    </tr>\n",
       "  </tbody>\n",
       "</table>\n",
       "<p>5 rows × 27 columns</p>\n",
       "</div>"
      ],
      "text/plain": [
       "   cycle     branch        type                        matchup forecastdate   \n",
       "0   2016  President  polls-plus  Clinton vs. Trump vs. Johnson      11/8/16  \\\n",
       "1   2016  President  polls-plus  Clinton vs. Trump vs. Johnson      11/8/16   \n",
       "2   2016  President  polls-plus  Clinton vs. Trump vs. Johnson      11/8/16   \n",
       "3   2016  President  polls-plus  Clinton vs. Trump vs. Johnson      11/8/16   \n",
       "4   2016  President  polls-plus  Clinton vs. Trump vs. Johnson      11/8/16   \n",
       "\n",
       "  state  startdate    enddate                  pollster grade  ...   \n",
       "0  U.S.  11/3/2016  11/6/2016  ABC News/Washington Post    A+  ...  \\\n",
       "1  U.S.  11/1/2016  11/7/2016   Google Consumer Surveys     B  ...   \n",
       "2  U.S.  11/2/2016  11/6/2016                     Ipsos    A-  ...   \n",
       "3  U.S.  11/4/2016  11/7/2016                    YouGov     B  ...   \n",
       "4  U.S.  11/3/2016  11/6/2016          Gravis Marketing    B-  ...   \n",
       "\n",
       "   adjpoll_clinton adjpoll_trump  adjpoll_johnson  adjpoll_mcmullin   \n",
       "0         45.20163      41.72430         4.626221               NaN  \\\n",
       "1         43.34557      41.21439         5.175792               NaN   \n",
       "2         42.02638      38.81620         6.844734               NaN   \n",
       "3         45.65676      40.92004         6.069454               NaN   \n",
       "4         46.84089      42.33184         3.726098               NaN   \n",
       "\n",
       "   multiversions                                                url  poll_id   \n",
       "0            NaN  https://www.washingtonpost.com/news/the-fix/wp...    48630  \\\n",
       "1            NaN  https://datastudio.google.com/u/0/#/org//repor...    48847   \n",
       "2            NaN  http://projects.fivethirtyeight.com/polls/2016...    48922   \n",
       "3            NaN  https://d25d2506sfb94s.cloudfront.net/cumulus_...    48687   \n",
       "4            NaN  http://www.gravispolls.com/2016/11/final-natio...    48848   \n",
       "\n",
       "   question_id  createddate             timestamp  \n",
       "0        76192      11/7/16  09:35:33  8 Nov 2016  \n",
       "1        76443      11/7/16  09:35:33  8 Nov 2016  \n",
       "2        76636      11/8/16  09:35:33  8 Nov 2016  \n",
       "3        76262      11/7/16  09:35:33  8 Nov 2016  \n",
       "4        76444      11/7/16  09:35:33  8 Nov 2016  \n",
       "\n",
       "[5 rows x 27 columns]"
      ]
     },
     "execution_count": 7,
     "metadata": {},
     "output_type": "execute_result"
    }
   ],
   "source": [
    "# Reading the data using pandas\n",
    "poll_df = pd.read_csv(poll_data)\n",
    "poll_df.head()"
   ]
  },
  {
   "cell_type": "code",
   "execution_count": null,
   "id": "5b4dd9ab",
   "metadata": {},
   "outputs": [],
   "source": [
    "# Checking for informations contained in the data\n",
    "poll_df.info()"
   ]
  },
  {
   "cell_type": "code",
   "execution_count": 303,
   "id": "02619903",
   "metadata": {},
   "outputs": [
    {
     "data": {
      "text/plain": [
       "array(['polls-plus', 'now-cast', 'polls-only'], dtype=object)"
      ]
     },
     "execution_count": 303,
     "metadata": {},
     "output_type": "execute_result"
    }
   ],
   "source": [
    "# Getting unique values for the type column\n",
    "poll_df['type'].unique()"
   ]
  },
  {
   "cell_type": "code",
   "execution_count": 304,
   "id": "cc0efcd4",
   "metadata": {},
   "outputs": [
    {
     "data": {
      "text/html": [
       "<div>\n",
       "<style scoped>\n",
       "    .dataframe tbody tr th:only-of-type {\n",
       "        vertical-align: middle;\n",
       "    }\n",
       "\n",
       "    .dataframe tbody tr th {\n",
       "        vertical-align: top;\n",
       "    }\n",
       "\n",
       "    .dataframe thead th {\n",
       "        text-align: right;\n",
       "    }\n",
       "</style>\n",
       "<table border=\"1\" class=\"dataframe\">\n",
       "  <thead>\n",
       "    <tr style=\"text-align: right;\">\n",
       "      <th></th>\n",
       "      <th>cycle</th>\n",
       "      <th>samplesize</th>\n",
       "      <th>poll_wt</th>\n",
       "      <th>rawpoll_clinton</th>\n",
       "      <th>rawpoll_trump</th>\n",
       "      <th>rawpoll_johnson</th>\n",
       "      <th>rawpoll_mcmullin</th>\n",
       "      <th>adjpoll_clinton</th>\n",
       "      <th>adjpoll_trump</th>\n",
       "      <th>adjpoll_johnson</th>\n",
       "      <th>adjpoll_mcmullin</th>\n",
       "      <th>poll_id</th>\n",
       "      <th>question_id</th>\n",
       "    </tr>\n",
       "  </thead>\n",
       "  <tbody>\n",
       "    <tr>\n",
       "      <th>count</th>\n",
       "      <td>12624.0</td>\n",
       "      <td>12621.000000</td>\n",
       "      <td>12624.000000</td>\n",
       "      <td>12624.000000</td>\n",
       "      <td>12624.000000</td>\n",
       "      <td>8397.000000</td>\n",
       "      <td>90.000000</td>\n",
       "      <td>12624.000000</td>\n",
       "      <td>12624.000000</td>\n",
       "      <td>8397.000000</td>\n",
       "      <td>90.000000</td>\n",
       "      <td>12624.000000</td>\n",
       "      <td>12624.000000</td>\n",
       "    </tr>\n",
       "    <tr>\n",
       "      <th>mean</th>\n",
       "      <td>2016.0</td>\n",
       "      <td>1148.216068</td>\n",
       "      <td>0.255431</td>\n",
       "      <td>41.990860</td>\n",
       "      <td>39.828710</td>\n",
       "      <td>7.381740</td>\n",
       "      <td>24.004000</td>\n",
       "      <td>43.323005</td>\n",
       "      <td>42.667719</td>\n",
       "      <td>4.655091</td>\n",
       "      <td>24.511497</td>\n",
       "      <td>45910.899477</td>\n",
       "      <td>71591.326046</td>\n",
       "    </tr>\n",
       "    <tr>\n",
       "      <th>std</th>\n",
       "      <td>0.0</td>\n",
       "      <td>2630.647790</td>\n",
       "      <td>0.669326</td>\n",
       "      <td>7.727792</td>\n",
       "      <td>7.877327</td>\n",
       "      <td>2.959274</td>\n",
       "      <td>5.638641</td>\n",
       "      <td>7.095235</td>\n",
       "      <td>6.948256</td>\n",
       "      <td>2.472636</td>\n",
       "      <td>5.174286</td>\n",
       "      <td>2864.536271</td>\n",
       "      <td>4699.401001</td>\n",
       "    </tr>\n",
       "    <tr>\n",
       "      <th>min</th>\n",
       "      <td>2016.0</td>\n",
       "      <td>35.000000</td>\n",
       "      <td>0.000000</td>\n",
       "      <td>11.040000</td>\n",
       "      <td>4.000000</td>\n",
       "      <td>0.000000</td>\n",
       "      <td>9.000000</td>\n",
       "      <td>17.064950</td>\n",
       "      <td>4.372936</td>\n",
       "      <td>-3.677883</td>\n",
       "      <td>11.028320</td>\n",
       "      <td>35362.000000</td>\n",
       "      <td>47244.000000</td>\n",
       "    </tr>\n",
       "    <tr>\n",
       "      <th>25%</th>\n",
       "      <td>2016.0</td>\n",
       "      <td>447.000000</td>\n",
       "      <td>0.000358</td>\n",
       "      <td>38.000000</td>\n",
       "      <td>35.000000</td>\n",
       "      <td>5.400000</td>\n",
       "      <td>22.000000</td>\n",
       "      <td>40.210697</td>\n",
       "      <td>38.445588</td>\n",
       "      <td>3.136837</td>\n",
       "      <td>22.814548</td>\n",
       "      <td>45151.750000</td>\n",
       "      <td>69548.500000</td>\n",
       "    </tr>\n",
       "    <tr>\n",
       "      <th>50%</th>\n",
       "      <td>2016.0</td>\n",
       "      <td>772.000000</td>\n",
       "      <td>0.008172</td>\n",
       "      <td>43.000000</td>\n",
       "      <td>40.000000</td>\n",
       "      <td>7.000000</td>\n",
       "      <td>25.000000</td>\n",
       "      <td>44.148045</td>\n",
       "      <td>42.716265</td>\n",
       "      <td>4.375392</td>\n",
       "      <td>25.136030</td>\n",
       "      <td>46384.500000</td>\n",
       "      <td>72516.500000</td>\n",
       "    </tr>\n",
       "    <tr>\n",
       "      <th>75%</th>\n",
       "      <td>2016.0</td>\n",
       "      <td>1237.000000</td>\n",
       "      <td>0.086735</td>\n",
       "      <td>46.200000</td>\n",
       "      <td>45.000000</td>\n",
       "      <td>9.000000</td>\n",
       "      <td>28.000000</td>\n",
       "      <td>46.908830</td>\n",
       "      <td>46.313520</td>\n",
       "      <td>5.761469</td>\n",
       "      <td>28.067610</td>\n",
       "      <td>47741.250000</td>\n",
       "      <td>74724.250000</td>\n",
       "    </tr>\n",
       "    <tr>\n",
       "      <th>max</th>\n",
       "      <td>2016.0</td>\n",
       "      <td>84292.000000</td>\n",
       "      <td>8.720654</td>\n",
       "      <td>88.000000</td>\n",
       "      <td>68.000000</td>\n",
       "      <td>25.000000</td>\n",
       "      <td>31.000000</td>\n",
       "      <td>86.772180</td>\n",
       "      <td>72.437390</td>\n",
       "      <td>20.366840</td>\n",
       "      <td>31.583810</td>\n",
       "      <td>48922.000000</td>\n",
       "      <td>76636.000000</td>\n",
       "    </tr>\n",
       "  </tbody>\n",
       "</table>\n",
       "</div>"
      ],
      "text/plain": [
       "         cycle    samplesize       poll_wt  rawpoll_clinton  rawpoll_trump  \\\n",
       "count  12624.0  12621.000000  12624.000000     12624.000000   12624.000000   \n",
       "mean    2016.0   1148.216068      0.255431        41.990860      39.828710   \n",
       "std        0.0   2630.647790      0.669326         7.727792       7.877327   \n",
       "min     2016.0     35.000000      0.000000        11.040000       4.000000   \n",
       "25%     2016.0    447.000000      0.000358        38.000000      35.000000   \n",
       "50%     2016.0    772.000000      0.008172        43.000000      40.000000   \n",
       "75%     2016.0   1237.000000      0.086735        46.200000      45.000000   \n",
       "max     2016.0  84292.000000      8.720654        88.000000      68.000000   \n",
       "\n",
       "       rawpoll_johnson  rawpoll_mcmullin  adjpoll_clinton  adjpoll_trump  \\\n",
       "count      8397.000000         90.000000     12624.000000   12624.000000   \n",
       "mean          7.381740         24.004000        43.323005      42.667719   \n",
       "std           2.959274          5.638641         7.095235       6.948256   \n",
       "min           0.000000          9.000000        17.064950       4.372936   \n",
       "25%           5.400000         22.000000        40.210697      38.445588   \n",
       "50%           7.000000         25.000000        44.148045      42.716265   \n",
       "75%           9.000000         28.000000        46.908830      46.313520   \n",
       "max          25.000000         31.000000        86.772180      72.437390   \n",
       "\n",
       "       adjpoll_johnson  adjpoll_mcmullin       poll_id   question_id  \n",
       "count      8397.000000         90.000000  12624.000000  12624.000000  \n",
       "mean          4.655091         24.511497  45910.899477  71591.326046  \n",
       "std           2.472636          5.174286   2864.536271   4699.401001  \n",
       "min          -3.677883         11.028320  35362.000000  47244.000000  \n",
       "25%           3.136837         22.814548  45151.750000  69548.500000  \n",
       "50%           4.375392         25.136030  46384.500000  72516.500000  \n",
       "75%           5.761469         28.067610  47741.250000  74724.250000  \n",
       "max          20.366840         31.583810  48922.000000  76636.000000  "
      ]
     },
     "execution_count": 304,
     "metadata": {},
     "output_type": "execute_result"
    }
   ],
   "source": [
    "# What was the statistical report of the data\n",
    "poll_df.describe()"
   ]
  },
  {
   "cell_type": "markdown",
   "id": "34091938",
   "metadata": {},
   "source": [
    "###### What to look out for !!!\n",
    "    1.) What grade did each matchup have\n",
    "    2.) Which poll type had the highest population\n",
    "    3.) The grade for each poll type\n",
    "    4.) What was the grade assigned to pollster\n",
    "    5.) Performance of each candidate at various stages"
   ]
  },
  {
   "cell_type": "code",
   "execution_count": 305,
   "id": "464c8aad",
   "metadata": {},
   "outputs": [
    {
     "data": {
      "text/plain": [
       "<AxesSubplot:xlabel='grade', ylabel='count'>"
      ]
     },
     "execution_count": 305,
     "metadata": {},
     "output_type": "execute_result"
    },
    {
     "data": {
      "image/png": "[encoded data removed]",
      "text/plain": [
       "<Figure size 432x288 with 1 Axes>"
      ]
     },
     "metadata": {},
     "output_type": "display_data"
    }
   ],
   "source": [
    "#  What grade did each matchup have\n",
    "sns.countplot(\"grade\", data=poll_df, hue=\"matchup\")"
   ]
  },
  {
   "cell_type": "code",
   "execution_count": 306,
   "id": "71d776f6",
   "metadata": {},
   "outputs": [
    {
     "data": {
      "text/plain": [
       "<AxesSubplot:xlabel='population', ylabel='count'>"
      ]
     },
     "execution_count": 306,
     "metadata": {},
     "output_type": "execute_result"
    },
    {
     "data": {
      "image/png": "[encoded data removed]",
      "text/plain": [
       "<Figure size 432x288 with 1 Axes>"
      ]
     },
     "metadata": {},
     "output_type": "display_data"
    }
   ],
   "source": [
    "# Which poll type had the highest population\n",
    "sns.countplot(\"population\", data=poll_df, hue=\"type\" )"
   ]
  },
  {
   "cell_type": "code",
   "execution_count": 307,
   "id": "ea85f67a",
   "metadata": {},
   "outputs": [
    {
     "data": {
      "text/plain": [
       "<AxesSubplot:xlabel='grade', ylabel='count'>"
      ]
     },
     "execution_count": 307,
     "metadata": {},
     "output_type": "execute_result"
    },
    {
     "data": {
      "image/png": "[encoded data removed]",
      "text/plain": [
       "<Figure size 432x288 with 1 Axes>"
      ]
     },
     "metadata": {},
     "output_type": "display_data"
    }
   ],
   "source": [
    "# The grade for each poll type\n",
    "sns.countplot(\"grade\", data=poll_df, hue=\"type\")"
   ]
  },
  {
   "cell_type": "code",
   "execution_count": 308,
   "id": "d533e77e",
   "metadata": {},
   "outputs": [
    {
     "data": {
      "text/plain": [
       "<AxesSubplot:xlabel='grade', ylabel='count'>"
      ]
     },
     "execution_count": 308,
     "metadata": {},
     "output_type": "execute_result"
    },
    {
     "data": {
      "image/png": "[encoded data removed]",
      "text/plain": [
       "<Figure size 432x288 with 1 Axes>"
      ]
     },
     "metadata": {},
     "output_type": "display_data"
    }
   ],
   "source": [
    "# matchup stat for each grade\n",
    "sns.countplot(\"grade\", data=poll_df, hue=\"matchup\")"
   ]
  },
  {
   "cell_type": "code",
   "execution_count": 309,
   "id": "84fa1fa0",
   "metadata": {},
   "outputs": [
    {
     "data": {
      "text/plain": [
       "0        47.00\n",
       "1        38.03\n",
       "2        42.00\n",
       "3        45.00\n",
       "4        47.00\n",
       "         ...  \n",
       "12619    37.00\n",
       "12620    47.48\n",
       "12621    50.00\n",
       "12622    50.49\n",
       "12623    46.00\n",
       "Length: 12624, dtype: float64"
      ]
     },
     "execution_count": 309,
     "metadata": {},
     "output_type": "execute_result"
    }
   ],
   "source": [
    "# Which candidate had the highest poll percent\n",
    "poll_df['rawpoll'] =poll_df[[\"rawpoll_clinton\",\"rawpoll_trump\",\"rawpoll_johnson\",\"rawpoll_mcmullin\"]].max(axis=1)\n",
    "rawpoll"
   ]
  },
  {
   "cell_type": "code",
   "execution_count": 310,
   "id": "937d53ff",
   "metadata": {
    "scrolled": true
   },
   "outputs": [
    {
     "data": {
      "text/plain": [
       "0        45.20163\n",
       "1        43.34557\n",
       "2        42.02638\n",
       "3        45.65676\n",
       "4        46.84089\n",
       "           ...   \n",
       "12619    43.04717\n",
       "12620    46.54218\n",
       "12621    53.83622\n",
       "12622    49.57558\n",
       "12623    46.40999\n",
       "Length: 12624, dtype: float64"
      ]
     },
     "execution_count": 310,
     "metadata": {},
     "output_type": "execute_result"
    }
   ],
   "source": [
    "# Which candidate had the highest Fivethirtyeight adjusted percentage\n",
    "poll_df['adjpoll'] = poll_df[[\"adjpoll_clinton\",\"adjpoll_trump\",\"adjpoll_johnson\",\"adjpoll_mcmullin\"]].max(axis=1)\n",
    "adjpoll"
   ]
  },
  {
   "cell_type": "code",
   "execution_count": 311,
   "id": "3387892e",
   "metadata": {},
   "outputs": [
    {
     "data": {
      "text/html": [
       "<div>\n",
       "<style scoped>\n",
       "    .dataframe tbody tr th:only-of-type {\n",
       "        vertical-align: middle;\n",
       "    }\n",
       "\n",
       "    .dataframe tbody tr th {\n",
       "        vertical-align: top;\n",
       "    }\n",
       "\n",
       "    .dataframe thead th {\n",
       "        text-align: right;\n",
       "    }\n",
       "</style>\n",
       "<table border=\"1\" class=\"dataframe\">\n",
       "  <thead>\n",
       "    <tr style=\"text-align: right;\">\n",
       "      <th></th>\n",
       "      <th>cycle</th>\n",
       "      <th>branch</th>\n",
       "      <th>type</th>\n",
       "      <th>matchup</th>\n",
       "      <th>forecastdate</th>\n",
       "      <th>state</th>\n",
       "      <th>startdate</th>\n",
       "      <th>enddate</th>\n",
       "      <th>pollster</th>\n",
       "      <th>grade</th>\n",
       "      <th>...</th>\n",
       "      <th>adjpoll_johnson</th>\n",
       "      <th>adjpoll_mcmullin</th>\n",
       "      <th>multiversions</th>\n",
       "      <th>url</th>\n",
       "      <th>poll_id</th>\n",
       "      <th>question_id</th>\n",
       "      <th>createddate</th>\n",
       "      <th>timestamp</th>\n",
       "      <th>rawpoll</th>\n",
       "      <th>adjpoll</th>\n",
       "    </tr>\n",
       "  </thead>\n",
       "  <tbody>\n",
       "    <tr>\n",
       "      <th>0</th>\n",
       "      <td>2016</td>\n",
       "      <td>President</td>\n",
       "      <td>polls-plus</td>\n",
       "      <td>Clinton vs. Trump vs. Johnson</td>\n",
       "      <td>11/8/16</td>\n",
       "      <td>U.S.</td>\n",
       "      <td>11/3/2016</td>\n",
       "      <td>11/6/2016</td>\n",
       "      <td>ABC News/Washington Post</td>\n",
       "      <td>A+</td>\n",
       "      <td>...</td>\n",
       "      <td>4.626221</td>\n",
       "      <td>NaN</td>\n",
       "      <td>NaN</td>\n",
       "      <td>https://www.washingtonpost.com/news/the-fix/wp...</td>\n",
       "      <td>48630</td>\n",
       "      <td>76192</td>\n",
       "      <td>11/7/16</td>\n",
       "      <td>09:35:33  8 Nov 2016</td>\n",
       "      <td>47.00</td>\n",
       "      <td>45.20163</td>\n",
       "    </tr>\n",
       "    <tr>\n",
       "      <th>1</th>\n",
       "      <td>2016</td>\n",
       "      <td>President</td>\n",
       "      <td>polls-plus</td>\n",
       "      <td>Clinton vs. Trump vs. Johnson</td>\n",
       "      <td>11/8/16</td>\n",
       "      <td>U.S.</td>\n",
       "      <td>11/1/2016</td>\n",
       "      <td>11/7/2016</td>\n",
       "      <td>Google Consumer Surveys</td>\n",
       "      <td>B</td>\n",
       "      <td>...</td>\n",
       "      <td>5.175792</td>\n",
       "      <td>NaN</td>\n",
       "      <td>NaN</td>\n",
       "      <td>https://datastudio.google.com/u/0/#/org//repor...</td>\n",
       "      <td>48847</td>\n",
       "      <td>76443</td>\n",
       "      <td>11/7/16</td>\n",
       "      <td>09:35:33  8 Nov 2016</td>\n",
       "      <td>38.03</td>\n",
       "      <td>43.34557</td>\n",
       "    </tr>\n",
       "    <tr>\n",
       "      <th>2</th>\n",
       "      <td>2016</td>\n",
       "      <td>President</td>\n",
       "      <td>polls-plus</td>\n",
       "      <td>Clinton vs. Trump vs. Johnson</td>\n",
       "      <td>11/8/16</td>\n",
       "      <td>U.S.</td>\n",
       "      <td>11/2/2016</td>\n",
       "      <td>11/6/2016</td>\n",
       "      <td>Ipsos</td>\n",
       "      <td>A-</td>\n",
       "      <td>...</td>\n",
       "      <td>6.844734</td>\n",
       "      <td>NaN</td>\n",
       "      <td>NaN</td>\n",
       "      <td>http://projects.fivethirtyeight.com/polls/2016...</td>\n",
       "      <td>48922</td>\n",
       "      <td>76636</td>\n",
       "      <td>11/8/16</td>\n",
       "      <td>09:35:33  8 Nov 2016</td>\n",
       "      <td>42.00</td>\n",
       "      <td>42.02638</td>\n",
       "    </tr>\n",
       "    <tr>\n",
       "      <th>3</th>\n",
       "      <td>2016</td>\n",
       "      <td>President</td>\n",
       "      <td>polls-plus</td>\n",
       "      <td>Clinton vs. Trump vs. Johnson</td>\n",
       "      <td>11/8/16</td>\n",
       "      <td>U.S.</td>\n",
       "      <td>11/4/2016</td>\n",
       "      <td>11/7/2016</td>\n",
       "      <td>YouGov</td>\n",
       "      <td>B</td>\n",
       "      <td>...</td>\n",
       "      <td>6.069454</td>\n",
       "      <td>NaN</td>\n",
       "      <td>NaN</td>\n",
       "      <td>https://d25d2506sfb94s.cloudfront.net/cumulus_...</td>\n",
       "      <td>48687</td>\n",
       "      <td>76262</td>\n",
       "      <td>11/7/16</td>\n",
       "      <td>09:35:33  8 Nov 2016</td>\n",
       "      <td>45.00</td>\n",
       "      <td>45.65676</td>\n",
       "    </tr>\n",
       "    <tr>\n",
       "      <th>4</th>\n",
       "      <td>2016</td>\n",
       "      <td>President</td>\n",
       "      <td>polls-plus</td>\n",
       "      <td>Clinton vs. Trump vs. Johnson</td>\n",
       "      <td>11/8/16</td>\n",
       "      <td>U.S.</td>\n",
       "      <td>11/3/2016</td>\n",
       "      <td>11/6/2016</td>\n",
       "      <td>Gravis Marketing</td>\n",
       "      <td>B-</td>\n",
       "      <td>...</td>\n",
       "      <td>3.726098</td>\n",
       "      <td>NaN</td>\n",
       "      <td>NaN</td>\n",
       "      <td>http://www.gravispolls.com/2016/11/final-natio...</td>\n",
       "      <td>48848</td>\n",
       "      <td>76444</td>\n",
       "      <td>11/7/16</td>\n",
       "      <td>09:35:33  8 Nov 2016</td>\n",
       "      <td>47.00</td>\n",
       "      <td>46.84089</td>\n",
       "    </tr>\n",
       "  </tbody>\n",
       "</table>\n",
       "<p>5 rows × 29 columns</p>\n",
       "</div>"
      ],
      "text/plain": [
       "   cycle     branch        type                        matchup forecastdate  \\\n",
       "0   2016  President  polls-plus  Clinton vs. Trump vs. Johnson      11/8/16   \n",
       "1   2016  President  polls-plus  Clinton vs. Trump vs. Johnson      11/8/16   \n",
       "2   2016  President  polls-plus  Clinton vs. Trump vs. Johnson      11/8/16   \n",
       "3   2016  President  polls-plus  Clinton vs. Trump vs. Johnson      11/8/16   \n",
       "4   2016  President  polls-plus  Clinton vs. Trump vs. Johnson      11/8/16   \n",
       "\n",
       "  state  startdate    enddate                  pollster grade  ...  \\\n",
       "0  U.S.  11/3/2016  11/6/2016  ABC News/Washington Post    A+  ...   \n",
       "1  U.S.  11/1/2016  11/7/2016   Google Consumer Surveys     B  ...   \n",
       "2  U.S.  11/2/2016  11/6/2016                     Ipsos    A-  ...   \n",
       "3  U.S.  11/4/2016  11/7/2016                    YouGov     B  ...   \n",
       "4  U.S.  11/3/2016  11/6/2016          Gravis Marketing    B-  ...   \n",
       "\n",
       "   adjpoll_johnson adjpoll_mcmullin  multiversions  \\\n",
       "0         4.626221              NaN            NaN   \n",
       "1         5.175792              NaN            NaN   \n",
       "2         6.844734              NaN            NaN   \n",
       "3         6.069454              NaN            NaN   \n",
       "4         3.726098              NaN            NaN   \n",
       "\n",
       "                                                 url  poll_id  question_id  \\\n",
       "0  https://www.washingtonpost.com/news/the-fix/wp...    48630        76192   \n",
       "1  https://datastudio.google.com/u/0/#/org//repor...    48847        76443   \n",
       "2  http://projects.fivethirtyeight.com/polls/2016...    48922        76636   \n",
       "3  https://d25d2506sfb94s.cloudfront.net/cumulus_...    48687        76262   \n",
       "4  http://www.gravispolls.com/2016/11/final-natio...    48848        76444   \n",
       "\n",
       "   createddate             timestamp  rawpoll   adjpoll  \n",
       "0      11/7/16  09:35:33  8 Nov 2016    47.00  45.20163  \n",
       "1      11/7/16  09:35:33  8 Nov 2016    38.03  43.34557  \n",
       "2      11/8/16  09:35:33  8 Nov 2016    42.00  42.02638  \n",
       "3      11/7/16  09:35:33  8 Nov 2016    45.00  45.65676  \n",
       "4      11/7/16  09:35:33  8 Nov 2016    47.00  46.84089  \n",
       "\n",
       "[5 rows x 29 columns]"
      ]
     },
     "execution_count": 311,
     "metadata": {},
     "output_type": "execute_result"
    }
   ],
   "source": [
    "poll_df.head()"
   ]
  },
  {
   "cell_type": "code",
   "execution_count": 312,
   "id": "e1ea618c",
   "metadata": {},
   "outputs": [
    {
     "data": {
      "text/plain": [
       "[Text(0.5, 0, 'max_value Fivethirtyeight adjusted % '),\n",
       " Text(0, 0.5, 'max_value for Candidate %'),\n",
       " Text(0.5, 1.0, 'adjpoll Vs rawpoll')]"
      ]
     },
     "execution_count": 312,
     "metadata": {},
     "output_type": "execute_result"
    },
    {
     "data": {
      "image/png": "[encoded data removed]",
      "text/plain": [
       "<Figure size 432x288 with 1 Axes>"
      ]
     },
     "metadata": {},
     "output_type": "display_data"
    }
   ],
   "source": [
    "fig, ax = plt.subplots()\n",
    "ax.scatter(poll_df['adjpoll'], poll_df['rawpoll'])\n",
    "ax.set(xlabel= \"max_value Fivethirtyeight adjusted % \", ylabel=\"max_value for Candidate %\", title=\"adjpoll Vs rawpoll\")"
   ]
  },
  {
   "cell_type": "code",
   "execution_count": 315,
   "id": "5ef9d657",
   "metadata": {},
   "outputs": [
    {
     "data": {
      "text/plain": [
       "<AxesSubplot:xlabel='adjpoll'>"
      ]
     },
     "execution_count": 315,
     "metadata": {},
     "output_type": "execute_result"
    },
    {
     "data": {
      "image/png": "[encoded data removed]",
      "text/plain": [
       "<Figure size 432x288 with 1 Axes>"
      ]
     },
     "metadata": {},
     "output_type": "display_data"
    }
   ],
   "source": [
    "sns.boxplot('adjpoll', data=poll_df)"
   ]
  },
  {
   "cell_type": "code",
   "execution_count": 316,
   "id": "1e97ea12",
   "metadata": {},
   "outputs": [
    {
     "data": {
      "text/plain": [
       "<AxesSubplot:xlabel='rawpoll'>"
      ]
     },
     "execution_count": 316,
     "metadata": {},
     "output_type": "execute_result"
    },
    {
     "data": {
      "image/png": "[encoded data removed]",
      "text/plain": [
       "<Figure size 432x288 with 1 Axes>"
      ]
     },
     "metadata": {},
     "output_type": "display_data"
    }
   ],
   "source": [
    "sns.boxplot('rawpoll', data=poll_df)"
   ]
  },
  {
   "cell_type": "code",
   "execution_count": 320,
   "id": "ebdbb04e",
   "metadata": {},
   "outputs": [
    {
     "data": {
      "text/plain": [
       "U.S.                    3318\n",
       "Florida                  444\n",
       "North Carolina           375\n",
       "Pennsylvania             375\n",
       "Ohio                     345\n",
       "New Hampshire            336\n",
       "Nevada                   279\n",
       "Virginia                 273\n",
       "Michigan                 258\n",
       "Wisconsin                240\n",
       "Georgia                  240\n",
       "Colorado                 240\n",
       "Arizona                  237\n",
       "California               213\n",
       "Iowa                     210\n",
       "Missouri                 204\n",
       "Utah                     198\n",
       "New York                 189\n",
       "Illinois                 180\n",
       "Texas                    174\n",
       "Indiana                  168\n",
       "New Jersey               162\n",
       "Oregon                   162\n",
       "Maine                    159\n",
       "South Carolina           156\n",
       "Washington               153\n",
       "Massachusetts            153\n",
       "New Mexico               153\n",
       "Kansas                   153\n",
       "Louisiana                150\n",
       "Kentucky                 147\n",
       "Idaho                    144\n",
       "Minnesota                144\n",
       "Maryland                 141\n",
       "West Virginia            141\n",
       "Tennessee                138\n",
       "Arkansas                 135\n",
       "Oklahoma                 132\n",
       "Connecticut              132\n",
       "Alabama                  129\n",
       "Mississippi              129\n",
       "Nebraska                 126\n",
       "Montana                  123\n",
       "Delaware                 120\n",
       "Alaska                   114\n",
       "South Dakota             111\n",
       "Vermont                  105\n",
       "North Dakota              93\n",
       "Rhode Island              87\n",
       "Wyoming                   87\n",
       "Hawaii                    84\n",
       "District of Columbia      78\n",
       "Maine CD-2                42\n",
       "Maine CD-1                33\n",
       "Nebraska CD-2              6\n",
       "Nebraska CD-3              3\n",
       "Nebraska CD-1              3\n",
       "Name: state, dtype: int64"
      ]
     },
     "execution_count": 320,
     "metadata": {},
     "output_type": "execute_result"
    }
   ],
   "source": [
    "poll_df[\"state\"].value_counts()"
   ]
  },
  {
   "cell_type": "code",
   "execution_count": 350,
   "id": "436ddd36",
   "metadata": {},
   "outputs": [
    {
     "data": {
      "text/html": [
       "<div>\n",
       "<style scoped>\n",
       "    .dataframe tbody tr th:only-of-type {\n",
       "        vertical-align: middle;\n",
       "    }\n",
       "\n",
       "    .dataframe tbody tr th {\n",
       "        vertical-align: top;\n",
       "    }\n",
       "\n",
       "    .dataframe thead th {\n",
       "        text-align: right;\n",
       "    }\n",
       "</style>\n",
       "<table border=\"1\" class=\"dataframe\">\n",
       "  <thead>\n",
       "    <tr style=\"text-align: right;\">\n",
       "      <th></th>\n",
       "      <th>0</th>\n",
       "    </tr>\n",
       "  </thead>\n",
       "  <tbody>\n",
       "    <tr>\n",
       "      <th>cycle</th>\n",
       "      <td>2.273827e-13</td>\n",
       "    </tr>\n",
       "    <tr>\n",
       "      <th>samplesize</th>\n",
       "      <td>2.630648e+03</td>\n",
       "    </tr>\n",
       "    <tr>\n",
       "      <th>poll_wt</th>\n",
       "      <td>6.693257e-01</td>\n",
       "    </tr>\n",
       "    <tr>\n",
       "      <th>rawpoll_clinton</th>\n",
       "      <td>7.727792e+00</td>\n",
       "    </tr>\n",
       "    <tr>\n",
       "      <th>rawpoll_trump</th>\n",
       "      <td>7.877327e+00</td>\n",
       "    </tr>\n",
       "    <tr>\n",
       "      <th>rawpoll_johnson</th>\n",
       "      <td>2.959274e+00</td>\n",
       "    </tr>\n",
       "    <tr>\n",
       "      <th>rawpoll_mcmullin</th>\n",
       "      <td>5.638641e+00</td>\n",
       "    </tr>\n",
       "    <tr>\n",
       "      <th>adjpoll_clinton</th>\n",
       "      <td>7.095235e+00</td>\n",
       "    </tr>\n",
       "    <tr>\n",
       "      <th>adjpoll_trump</th>\n",
       "      <td>6.948256e+00</td>\n",
       "    </tr>\n",
       "    <tr>\n",
       "      <th>adjpoll_johnson</th>\n",
       "      <td>2.472636e+00</td>\n",
       "    </tr>\n",
       "    <tr>\n",
       "      <th>adjpoll_mcmullin</th>\n",
       "      <td>5.174286e+00</td>\n",
       "    </tr>\n",
       "    <tr>\n",
       "      <th>poll_id</th>\n",
       "      <td>2.864536e+03</td>\n",
       "    </tr>\n",
       "    <tr>\n",
       "      <th>question_id</th>\n",
       "      <td>4.699401e+03</td>\n",
       "    </tr>\n",
       "    <tr>\n",
       "      <th>rawpoll</th>\n",
       "      <td>5.914994e+00</td>\n",
       "    </tr>\n",
       "    <tr>\n",
       "      <th>adjpoll</th>\n",
       "      <td>5.204215e+00</td>\n",
       "    </tr>\n",
       "  </tbody>\n",
       "</table>\n",
       "</div>"
      ],
      "text/plain": [
       "                             0\n",
       "cycle             2.273827e-13\n",
       "samplesize        2.630648e+03\n",
       "poll_wt           6.693257e-01\n",
       "rawpoll_clinton   7.727792e+00\n",
       "rawpoll_trump     7.877327e+00\n",
       "rawpoll_johnson   2.959274e+00\n",
       "rawpoll_mcmullin  5.638641e+00\n",
       "adjpoll_clinton   7.095235e+00\n",
       "adjpoll_trump     6.948256e+00\n",
       "adjpoll_johnson   2.472636e+00\n",
       "adjpoll_mcmullin  5.174286e+00\n",
       "poll_id           2.864536e+03\n",
       "question_id       4.699401e+03\n",
       "rawpoll           5.914994e+00\n",
       "adjpoll           5.204215e+00"
      ]
     },
     "execution_count": 350,
     "metadata": {},
     "output_type": "execute_result"
    }
   ],
   "source": [
    "std = DataFrame(poll_df.std())\n",
    "std"
   ]
  },
  {
   "cell_type": "code",
   "execution_count": 1,
   "id": "4b33a7cd",
   "metadata": {},
   "outputs": [
    {
     "ename": "NameError",
     "evalue": "name 'plt' is not defined",
     "output_type": "error",
     "traceback": [
      "\u001b[0;31m---------------------------------------------------------------------------\u001b[0m",
      "\u001b[0;31mNameError\u001b[0m                                 Traceback (most recent call last)",
      "Input \u001b[0;32mIn [1]\u001b[0m, in \u001b[0;36m<cell line: 1>\u001b[0;34m()\u001b[0m\n\u001b[0;32m----> 1\u001b[0m fig, ax \u001b[38;5;241m=\u001b[39m \u001b[43mplt\u001b[49m\u001b[38;5;241m.\u001b[39msubplots()\n\u001b[1;32m      2\u001b[0m ax\u001b[38;5;241m.\u001b[39mscatter(poll_df[\u001b[38;5;124m'\u001b[39m\u001b[38;5;124mstate\u001b[39m\u001b[38;5;124m'\u001b[39m], poll_df[\u001b[38;5;124m'\u001b[39m\u001b[38;5;124mrawpoll\u001b[39m\u001b[38;5;124m'\u001b[39m])\n\u001b[1;32m      3\u001b[0m ax\u001b[38;5;241m.\u001b[39mset(xlabel\u001b[38;5;241m=\u001b[39m \u001b[38;5;124m\"\u001b[39m\u001b[38;5;124mmax_value Fivethirtyeight adjusted \u001b[39m\u001b[38;5;124m%\u001b[39m\u001b[38;5;124m \u001b[39m\u001b[38;5;124m\"\u001b[39m, ylabel\u001b[38;5;241m=\u001b[39m\u001b[38;5;124m\"\u001b[39m\u001b[38;5;124mmax_value for Candidate \u001b[39m\u001b[38;5;124m%\u001b[39m\u001b[38;5;124m\"\u001b[39m, title\u001b[38;5;241m=\u001b[39m\u001b[38;5;124m\"\u001b[39m\u001b[38;5;124madjpoll Vs rawpoll\u001b[39m\u001b[38;5;124m\"\u001b[39m)\n",
      "\u001b[0;31mNameError\u001b[0m: name 'plt' is not defined"
     ]
    }
   ],
   "source": [
    "fig, ax = plt.subplots()\n",
    "ax.scatter(poll_df['state'], poll_df['rawpoll'])\n",
    "ax.set(xlabel= \"max_value Fivethirtyeight adjusted % \", ylabel=\"max_value for Candidate %\", title=\"adjpoll Vs rawpoll\")"
   ]
  },
  {
   "cell_type": "code",
   "execution_count": 351,
   "id": "f96e6494",
   "metadata": {},
   "outputs": [
    {
     "data": {
      "text/html": [
       "<div>\n",
       "<style scoped>\n",
       "    .dataframe tbody tr th:only-of-type {\n",
       "        vertical-align: middle;\n",
       "    }\n",
       "\n",
       "    .dataframe tbody tr th {\n",
       "        vertical-align: top;\n",
       "    }\n",
       "\n",
       "    .dataframe thead th {\n",
       "        text-align: right;\n",
       "    }\n",
       "</style>\n",
       "<table border=\"1\" class=\"dataframe\">\n",
       "  <thead>\n",
       "    <tr style=\"text-align: right;\">\n",
       "      <th></th>\n",
       "      <th>0</th>\n",
       "    </tr>\n",
       "  </thead>\n",
       "  <tbody>\n",
       "    <tr>\n",
       "      <th>cycle</th>\n",
       "      <td>2016.000000</td>\n",
       "    </tr>\n",
       "    <tr>\n",
       "      <th>samplesize</th>\n",
       "      <td>1148.216068</td>\n",
       "    </tr>\n",
       "    <tr>\n",
       "      <th>poll_wt</th>\n",
       "      <td>0.255431</td>\n",
       "    </tr>\n",
       "    <tr>\n",
       "      <th>rawpoll_clinton</th>\n",
       "      <td>41.990860</td>\n",
       "    </tr>\n",
       "    <tr>\n",
       "      <th>rawpoll_trump</th>\n",
       "      <td>39.828710</td>\n",
       "    </tr>\n",
       "    <tr>\n",
       "      <th>rawpoll_johnson</th>\n",
       "      <td>7.381740</td>\n",
       "    </tr>\n",
       "    <tr>\n",
       "      <th>rawpoll_mcmullin</th>\n",
       "      <td>24.004000</td>\n",
       "    </tr>\n",
       "    <tr>\n",
       "      <th>adjpoll_clinton</th>\n",
       "      <td>43.323005</td>\n",
       "    </tr>\n",
       "    <tr>\n",
       "      <th>adjpoll_trump</th>\n",
       "      <td>42.667719</td>\n",
       "    </tr>\n",
       "    <tr>\n",
       "      <th>adjpoll_johnson</th>\n",
       "      <td>4.655091</td>\n",
       "    </tr>\n",
       "    <tr>\n",
       "      <th>adjpoll_mcmullin</th>\n",
       "      <td>24.511497</td>\n",
       "    </tr>\n",
       "    <tr>\n",
       "      <th>poll_id</th>\n",
       "      <td>45910.899477</td>\n",
       "    </tr>\n",
       "    <tr>\n",
       "      <th>question_id</th>\n",
       "      <td>71591.326046</td>\n",
       "    </tr>\n",
       "    <tr>\n",
       "      <th>rawpoll</th>\n",
       "      <td>45.770242</td>\n",
       "    </tr>\n",
       "    <tr>\n",
       "      <th>adjpoll</th>\n",
       "      <td>47.585164</td>\n",
       "    </tr>\n",
       "  </tbody>\n",
       "</table>\n",
       "</div>"
      ],
      "text/plain": [
       "                             0\n",
       "cycle              2016.000000\n",
       "samplesize         1148.216068\n",
       "poll_wt               0.255431\n",
       "rawpoll_clinton      41.990860\n",
       "rawpoll_trump        39.828710\n",
       "rawpoll_johnson       7.381740\n",
       "rawpoll_mcmullin     24.004000\n",
       "adjpoll_clinton      43.323005\n",
       "adjpoll_trump        42.667719\n",
       "adjpoll_johnson       4.655091\n",
       "adjpoll_mcmullin     24.511497\n",
       "poll_id           45910.899477\n",
       "question_id       71591.326046\n",
       "rawpoll              45.770242\n",
       "adjpoll              47.585164"
      ]
     },
     "execution_count": 351,
     "metadata": {},
     "output_type": "execute_result"
    }
   ],
   "source": [
    "mean = DataFrame(poll_df.mean())\n",
    "mean"
   ]
  },
  {
   "cell_type": "markdown",
   "id": "bf371778",
   "metadata": {},
   "source": [
    "## Vote data set\n",
    "\n",
    "    1.) Which state has the highest vote\n",
    "    2.) Total vote for each country\n",
    "    3.) Country with the highest vote count\n",
    "    4.) Country that gave the winner the highest vote\n",
    "    5.) which party dominated\n",
    "    6.) Which country did each candidate get more vote from"
   ]
  },
  {
   "cell_type": "code",
   "execution_count": 122,
   "id": "1bb06cdb",
   "metadata": {},
   "outputs": [
    {
     "data": {
      "text/html": [
       "<div>\n",
       "<style scoped>\n",
       "    .dataframe tbody tr th:only-of-type {\n",
       "        vertical-align: middle;\n",
       "    }\n",
       "\n",
       "    .dataframe tbody tr th {\n",
       "        vertical-align: top;\n",
       "    }\n",
       "\n",
       "    .dataframe thead th {\n",
       "        text-align: right;\n",
       "    }\n",
       "</style>\n",
       "<table border=\"1\" class=\"dataframe\">\n",
       "  <thead>\n",
       "    <tr style=\"text-align: right;\">\n",
       "      <th></th>\n",
       "      <th>ï»¿StateCode</th>\n",
       "      <th>StateName</th>\n",
       "      <th>CountyFips</th>\n",
       "      <th>CountyName</th>\n",
       "      <th>CountyTotalVote</th>\n",
       "      <th>Party</th>\n",
       "      <th>Candidate</th>\n",
       "      <th>VoteCount</th>\n",
       "    </tr>\n",
       "  </thead>\n",
       "  <tbody>\n",
       "    <tr>\n",
       "      <th>0</th>\n",
       "      <td>AK</td>\n",
       "      <td>alaska</td>\n",
       "      <td>2000</td>\n",
       "      <td>Alaska</td>\n",
       "      <td>246588</td>\n",
       "      <td>GOP</td>\n",
       "      <td>Trump</td>\n",
       "      <td>130415.0</td>\n",
       "    </tr>\n",
       "    <tr>\n",
       "      <th>1</th>\n",
       "      <td>AL</td>\n",
       "      <td>alabama</td>\n",
       "      <td>1087</td>\n",
       "      <td>Macon</td>\n",
       "      <td>8748</td>\n",
       "      <td>GOP</td>\n",
       "      <td>Trump</td>\n",
       "      <td>1394.0</td>\n",
       "    </tr>\n",
       "    <tr>\n",
       "      <th>2</th>\n",
       "      <td>AL</td>\n",
       "      <td>alabama</td>\n",
       "      <td>1131</td>\n",
       "      <td>Wilcox</td>\n",
       "      <td>6095</td>\n",
       "      <td>GOP</td>\n",
       "      <td>Trump</td>\n",
       "      <td>1737.0</td>\n",
       "    </tr>\n",
       "    <tr>\n",
       "      <th>3</th>\n",
       "      <td>AL</td>\n",
       "      <td>alabama</td>\n",
       "      <td>1037</td>\n",
       "      <td>Coosa</td>\n",
       "      <td>5223</td>\n",
       "      <td>GOP</td>\n",
       "      <td>Trump</td>\n",
       "      <td>3376.0</td>\n",
       "    </tr>\n",
       "    <tr>\n",
       "      <th>4</th>\n",
       "      <td>AL</td>\n",
       "      <td>alabama</td>\n",
       "      <td>1009</td>\n",
       "      <td>Blount</td>\n",
       "      <td>25384</td>\n",
       "      <td>GOP</td>\n",
       "      <td>Trump</td>\n",
       "      <td>22808.0</td>\n",
       "    </tr>\n",
       "  </tbody>\n",
       "</table>\n",
       "</div>"
      ],
      "text/plain": [
       "  ï»¿StateCode StateName  CountyFips CountyName  CountyTotalVote Party  \\\n",
       "0           AK    alaska        2000     Alaska           246588   GOP   \n",
       "1           AL   alabama        1087      Macon             8748   GOP   \n",
       "2           AL   alabama        1131     Wilcox             6095   GOP   \n",
       "3           AL   alabama        1037      Coosa             5223   GOP   \n",
       "4           AL   alabama        1009     Blount            25384   GOP   \n",
       "\n",
       "  Candidate  VoteCount  \n",
       "0     Trump   130415.0  \n",
       "1     Trump     1394.0  \n",
       "2     Trump     1737.0  \n",
       "3     Trump     3376.0  \n",
       "4     Trump    22808.0  "
      ]
     },
     "execution_count": 122,
     "metadata": {},
     "output_type": "execute_result"
    }
   ],
   "source": [
    "address = \"https://query.data.world/s/zfbg3shwtemsc4drmdwjbz5hr2e4zm?dws=00000\"\n",
    "\n",
    "link = requests.get(address).text\n",
    "\n",
    "vote_data = StringIO(link)\n",
    "\n",
    "vote_df = pd.read_csv(vote_data)\n",
    "vote_df.head()\n",
    "    \n",
    "    "
   ]
  },
  {
   "cell_type": "code",
   "execution_count": 123,
   "id": "d5ff886e",
   "metadata": {},
   "outputs": [
    {
     "name": "stdout",
     "output_type": "stream",
     "text": [
      "<class 'pandas.core.frame.DataFrame'>\n",
      "RangeIndex: 15565 entries, 0 to 15564\n",
      "Data columns (total 8 columns):\n",
      " #   Column           Non-Null Count  Dtype  \n",
      "---  ------           --------------  -----  \n",
      " 0   ï»¿StateCode     15565 non-null  object \n",
      " 1   StateName        15565 non-null  object \n",
      " 2   CountyFips       15565 non-null  int64  \n",
      " 3   CountyName       15565 non-null  object \n",
      " 4   CountyTotalVote  15565 non-null  int64  \n",
      " 5   Party            15565 non-null  object \n",
      " 6   Candidate        15565 non-null  object \n",
      " 7   VoteCount        13227 non-null  float64\n",
      "dtypes: float64(1), int64(2), object(5)\n",
      "memory usage: 972.9+ KB\n"
     ]
    }
   ],
   "source": [
    "vote_df.info()"
   ]
  },
  {
   "cell_type": "code",
   "execution_count": 133,
   "id": "e6c44cb9",
   "metadata": {},
   "outputs": [],
   "source": [
    "valid_vote = vote_df.dropna()"
   ]
  },
  {
   "cell_type": "code",
   "execution_count": 134,
   "id": "5846307d",
   "metadata": {},
   "outputs": [
    {
     "name": "stdout",
     "output_type": "stream",
     "text": [
      "<class 'pandas.core.frame.DataFrame'>\n",
      "Int64Index: 13227 entries, 0 to 15564\n",
      "Data columns (total 8 columns):\n",
      " #   Column           Non-Null Count  Dtype  \n",
      "---  ------           --------------  -----  \n",
      " 0   ï»¿StateCode     13227 non-null  object \n",
      " 1   StateName        13227 non-null  object \n",
      " 2   CountyFips       13227 non-null  int64  \n",
      " 3   CountyName       13227 non-null  object \n",
      " 4   CountyTotalVote  13227 non-null  int64  \n",
      " 5   Party            13227 non-null  object \n",
      " 6   Candidate        13227 non-null  object \n",
      " 7   VoteCount        13227 non-null  float64\n",
      "dtypes: float64(1), int64(2), object(5)\n",
      "memory usage: 930.0+ KB\n"
     ]
    }
   ],
   "source": [
    "valid_vote.info()"
   ]
  },
  {
   "cell_type": "code",
   "execution_count": 136,
   "id": "73633ab9",
   "metadata": {},
   "outputs": [
    {
     "data": {
      "text/plain": [
       "GOP    3113\n",
       "DEM    3113\n",
       "GRN    3113\n",
       "LIB    3113\n",
       "CST    3113\n",
       "Name: Party, dtype: int64"
      ]
     },
     "execution_count": 136,
     "metadata": {},
     "output_type": "execute_result"
    }
   ],
   "source": [
    "vote_df.Party.value_counts()"
   ]
  },
  {
   "cell_type": "code",
   "execution_count": 224,
   "id": "e6e9e874",
   "metadata": {},
   "outputs": [
    {
     "data": {
      "text/plain": [
       "<AxesSubplot:xlabel='Party', ylabel='count'>"
      ]
     },
     "execution_count": 224,
     "metadata": {},
     "output_type": "execute_result"
    },
    {
     "data": {
      "image/png": "[encoded data removed]",
      "text/plain": [
       "<Figure size 432x288 with 1 Axes>"
      ]
     },
     "metadata": {},
     "output_type": "display_data"
    }
   ],
   "source": [
    "sns.countplot(\"Party\", data=vote_df, hue=\"Candidate\")"
   ]
  },
  {
   "cell_type": "code",
   "execution_count": 141,
   "id": "bbd964e5",
   "metadata": {},
   "outputs": [
    {
     "data": {
      "text/plain": [
       "'wyoming'"
      ]
     },
     "execution_count": 141,
     "metadata": {},
     "output_type": "execute_result"
    }
   ],
   "source": [
    "# State with the highest vote\n",
    "valid_vote[\"StateName\"].max()"
   ]
  },
  {
   "cell_type": "code",
   "execution_count": 143,
   "id": "17af1760",
   "metadata": {},
   "outputs": [
    {
     "data": {
      "text/plain": [
       "'Ziebach'"
      ]
     },
     "execution_count": 143,
     "metadata": {},
     "output_type": "execute_result"
    }
   ],
   "source": [
    "# country with the highest vote\n",
    "valid_vote[\"CountyName\"].max()"
   ]
  },
  {
   "cell_type": "code",
   "execution_count": 127,
   "id": "e32c6ae6",
   "metadata": {},
   "outputs": [
    {
     "name": "stdout",
     "output_type": "stream",
     "text": [
      "The average vote casted was 9456.42 with a std of 38625.83\n"
     ]
    }
   ],
   "source": [
    "don_mean = vote_df['VoteCount'].mean()\n",
    "don_std = vote_df['VoteCount'].std()\n",
    "\n",
    "print(\"The average vote casted was %.2f with a std of %.2f\" %(don_mean, don_std))"
   ]
  },
  {
   "cell_type": "code",
   "execution_count": 186,
   "id": "3c44ebbd",
   "metadata": {},
   "outputs": [
    {
     "data": {
      "text/plain": [
       "<seaborn.axisgrid.FacetGrid at 0x7f8f79526ca0>"
      ]
     },
     "execution_count": 186,
     "metadata": {},
     "output_type": "execute_result"
    },
    {
     "data": {
      "image/png": "[encoded data removed]",
      "text/plain": [
       "<Figure size 360x360 with 1 Axes>"
      ]
     },
     "metadata": {},
     "output_type": "display_data"
    }
   ],
   "source": [
    "# Which state had the highest Candidate?\n",
    "sns.factorplot(\"CountyTotalVote\", data=vote_df)"
   ]
  },
  {
   "cell_type": "code",
   "execution_count": 187,
   "id": "8a2f5ef4",
   "metadata": {},
   "outputs": [
    {
     "data": {
      "text/plain": [
       "count    1.556500e+04\n",
       "mean     4.038202e+04\n",
       "std      1.059828e+05\n",
       "min      6.400000e+01\n",
       "25%      4.807000e+03\n",
       "50%      1.091200e+04\n",
       "75%      2.860000e+04\n",
       "max      2.240323e+06\n",
       "Name: CountyTotalVote, dtype: float64"
      ]
     },
     "execution_count": 187,
     "metadata": {},
     "output_type": "execute_result"
    }
   ],
   "source": [
    "vote_df[\"CountyTotalVote\"].describe()"
   ]
  }
 ],
 "metadata": {
  "kernelspec": {
   "display_name": "Python 3 (ipykernel)",
   "language": "python",
   "name": "python3"
  },
  "language_info": {
   "codemirror_mode": {
    "name": "ipython",
    "version": 3
   },
   "file_extension": ".py",
   "mimetype": "text/x-python",
   "name": "python",
   "nbconvert_exporter": "python",
   "pygments_lexer": "ipython3",
   "version": "3.9.12"
  }
 },
 "nbformat": 4,
 "nbformat_minor": 5
}
